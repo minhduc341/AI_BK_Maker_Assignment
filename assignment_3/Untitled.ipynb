{
 "cells": [
  {
   "cell_type": "code",
   "execution_count": 1,
   "metadata": {},
   "outputs": [],
   "source": [
    "import matplotlib\n",
    "import numpy as np\n",
    "import tensorflow as tf"
   ]
  },
  {
   "cell_type": "code",
   "execution_count": 2,
   "metadata": {},
   "outputs": [
    {
     "name": "stdout",
     "output_type": "stream",
     "text": [
      "Hello world \n",
      "\n"
     ]
    }
   ],
   "source": [
    "print ('Hello world \\n')"
   ]
  },
  {
   "cell_type": "code",
   "execution_count": 4,
   "metadata": {},
   "outputs": [
    {
     "name": "stdout",
     "output_type": "stream",
     "text": [
      "This is my name: DUC \n",
      "\n"
     ]
    }
   ],
   "source": [
    "name = 'DUC'\n",
    "\n",
    "if name == 'DUC':\n",
    "    print ('This is my name: {} \\n'.format(name))\n",
    "else:\n",
    "    print ('This is not my name \\n')"
   ]
  },
  {
   "cell_type": "code",
   "execution_count": 5,
   "metadata": {},
   "outputs": [
    {
     "name": "stdout",
     "output_type": "stream",
     "text": [
      "i : 0\n",
      "My name is DUC : 1 time\n",
      "i : 1\n",
      "My name is DUC : 2 time\n",
      "i : 2\n",
      "My name is DUC : 3 time\n"
     ]
    }
   ],
   "source": [
    "for i in range(3):\n",
    "    print ('i : {}'.format(i))\n",
    "    print ('My name is DUC : {} time'.format(i+1))"
   ]
  },
  {
   "cell_type": "code",
   "execution_count": null,
   "metadata": {},
   "outputs": [],
   "source": []
  }
 ],
 "metadata": {
  "kernelspec": {
   "display_name": "Python 3",
   "language": "python",
   "name": "python3"
  },
  "language_info": {
   "codemirror_mode": {
    "name": "ipython",
    "version": 3
   },
   "file_extension": ".py",
   "mimetype": "text/x-python",
   "name": "python",
   "nbconvert_exporter": "python",
   "pygments_lexer": "ipython3",
   "version": "3.8.5"
  }
 },
 "nbformat": 4,
 "nbformat_minor": 4
}
